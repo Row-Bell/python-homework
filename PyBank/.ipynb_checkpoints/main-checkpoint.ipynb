{
 "cells": [
  {
   "cell_type": "code",
   "execution_count": 21,
   "metadata": {},
   "outputs": [
    {
     "data": {
      "text/html": [
       "<div>\n",
       "<style scoped>\n",
       "    .dataframe tbody tr th:only-of-type {\n",
       "        vertical-align: middle;\n",
       "    }\n",
       "\n",
       "    .dataframe tbody tr th {\n",
       "        vertical-align: top;\n",
       "    }\n",
       "\n",
       "    .dataframe thead th {\n",
       "        text-align: right;\n",
       "    }\n",
       "</style>\n",
       "<table border=\"1\" class=\"dataframe\">\n",
       "  <thead>\n",
       "    <tr style=\"text-align: right;\">\n",
       "      <th></th>\n",
       "      <th>Date</th>\n",
       "      <th>Profit/Losses</th>\n",
       "    </tr>\n",
       "  </thead>\n",
       "  <tbody>\n",
       "    <tr>\n",
       "      <th>0</th>\n",
       "      <td>Jan-2010</td>\n",
       "      <td>867884</td>\n",
       "    </tr>\n",
       "    <tr>\n",
       "      <th>1</th>\n",
       "      <td>Feb-2010</td>\n",
       "      <td>984655</td>\n",
       "    </tr>\n",
       "    <tr>\n",
       "      <th>2</th>\n",
       "      <td>Mar-2010</td>\n",
       "      <td>322013</td>\n",
       "    </tr>\n",
       "    <tr>\n",
       "      <th>3</th>\n",
       "      <td>Apr-2010</td>\n",
       "      <td>-69417</td>\n",
       "    </tr>\n",
       "    <tr>\n",
       "      <th>4</th>\n",
       "      <td>May-2010</td>\n",
       "      <td>310503</td>\n",
       "    </tr>\n",
       "    <tr>\n",
       "      <th>...</th>\n",
       "      <td>...</td>\n",
       "      <td>...</td>\n",
       "    </tr>\n",
       "    <tr>\n",
       "      <th>81</th>\n",
       "      <td>Oct-2016</td>\n",
       "      <td>102685</td>\n",
       "    </tr>\n",
       "    <tr>\n",
       "      <th>82</th>\n",
       "      <td>Nov-2016</td>\n",
       "      <td>795914</td>\n",
       "    </tr>\n",
       "    <tr>\n",
       "      <th>83</th>\n",
       "      <td>Dec-2016</td>\n",
       "      <td>60988</td>\n",
       "    </tr>\n",
       "    <tr>\n",
       "      <th>84</th>\n",
       "      <td>Jan-2017</td>\n",
       "      <td>138230</td>\n",
       "    </tr>\n",
       "    <tr>\n",
       "      <th>85</th>\n",
       "      <td>Feb-2017</td>\n",
       "      <td>671099</td>\n",
       "    </tr>\n",
       "  </tbody>\n",
       "</table>\n",
       "<p>86 rows × 2 columns</p>\n",
       "</div>"
      ],
      "text/plain": [
       "        Date  Profit/Losses\n",
       "0   Jan-2010         867884\n",
       "1   Feb-2010         984655\n",
       "2   Mar-2010         322013\n",
       "3   Apr-2010         -69417\n",
       "4   May-2010         310503\n",
       "..       ...            ...\n",
       "81  Oct-2016         102685\n",
       "82  Nov-2016         795914\n",
       "83  Dec-2016          60988\n",
       "84  Jan-2017         138230\n",
       "85  Feb-2017         671099\n",
       "\n",
       "[86 rows x 2 columns]"
      ]
     },
     "execution_count": 21,
     "metadata": {},
     "output_type": "execute_result"
    }
   ],
   "source": [
    "#import the pandas library as pd\n",
    "import pandas as pd\n",
    "\n",
    "#read in budget data\n",
    "df_budget_data = pd.read_csv(\"budget_data.csv\")\n",
    "\n",
    "df_budget_data\n"
   ]
  },
  {
   "cell_type": "code",
   "execution_count": 139,
   "metadata": {},
   "outputs": [
    {
     "name": "stdout",
     "output_type": "stream",
     "text": [
      "Total Months: 86\n"
     ]
    }
   ],
   "source": [
    "#Calculate the total number of months included in the dataset\n",
    "\n",
    "#The total amount of months should be the length of the index\n",
    "tot_amount_of_months = len(df_budget_data[\"Date\"])\n",
    "\n",
    "#Print the result\n",
    "print(f\"Total Months: {tot_amount_of_months}\")"
   ]
  },
  {
   "cell_type": "code",
   "execution_count": 150,
   "metadata": {},
   "outputs": [
    {
     "name": "stdout",
     "output_type": "stream",
     "text": [
      "Total: $38382578\n"
     ]
    }
   ],
   "source": [
    "#Calculate the net total amount of Profit/Losses over the entire period\n",
    "\n",
    "#Take the sum of the Profit/Losses column from the budget Data\n",
    "tot_amount_Profit_Losses = sum(df_budget_data[\"Profit/Losses\"])\n",
    "\n",
    "#Print out results\n",
    "print(f\"Total: ${tot_amount_Profit_Losses}\")"
   ]
  },
  {
   "cell_type": "code",
   "execution_count": 149,
   "metadata": {},
   "outputs": [
    {
     "name": "stdout",
     "output_type": "stream",
     "text": [
      "Average Change: $-2315.12\n"
     ]
    }
   ],
   "source": [
    "#Calculate the average of the changes in Profit/Losses over the entire period\n",
    "\n",
    "#Calculate Change between each month and create a new column\n",
    "\n",
    "#Create empty liste for the changes in profit/losses list\n",
    "change_in_P_L = []\n",
    "\n",
    "#Make dataframe budget data \"Profit/Losses\" into a list\n",
    "P_L = list(df_budget_data[\"Profit/Losses\"])\n",
    "\n",
    "#initialize the month\n",
    "month = 1\n",
    "\n",
    "#Iterate throught each of the months and subtract the previous month\n",
    "#Add the value into our emplty change in profit/losses list\n",
    "while month<len(P_L):\n",
    "    change_in_P_L.append(P_L[month]-P_L[month-1])\n",
    "    month += 1\n",
    "    \n",
    "#Change the list back into a Series\n",
    "changes_Series = pd.Series(change_in_P_L)\n",
    "\n",
    "#Calculate the average\n",
    "average_change = changes_Series.mean()\n",
    "\n",
    "#Print out the results\n",
    "print(\"Average Change: ${:0.2f}\".format(average_change))"
   ]
  },
  {
   "cell_type": "code",
   "execution_count": 153,
   "metadata": {},
   "outputs": [
    {
     "name": "stdout",
     "output_type": "stream",
     "text": [
      "Greatest Increase in Profits: Feb-2012 $1926159\n"
     ]
    }
   ],
   "source": [
    "#Calculate the greatest increase in profits (date and amount) over the entire period\n",
    "\n",
    "#Find the greates increase in profits in the Changes series\n",
    "Greatest_increase_in_Profits = changes_Series.max()\n",
    "\n",
    "#Calculate which index the greatest increase in profits corresponds to in the change series\n",
    "index_of_Greatest_increase = changes_Series[changes_Series == Greatest_increase_in_Profits].index.values\n",
    "\n",
    "#Calculate which index they will correspond to in the budget data AND grab the date of greatest increase\n",
    "Date_of_Greatest_increase_in_Profits = list(df_budget_data.loc[index_of_Greatest_increase+1, \"Date\"])[0]\n",
    "\n",
    "print(f\"Greatest Increase in Profits: {Date_of_Greatest_increase_in_Profits} ${Greatest_increase_in_Profits}\")\n",
    "#print out results."
   ]
  },
  {
   "cell_type": "code",
   "execution_count": 154,
   "metadata": {},
   "outputs": [
    {
     "name": "stdout",
     "output_type": "stream",
     "text": [
      "Greatest Increase in Losses: Sep-2013 $-2196167\n"
     ]
    }
   ],
   "source": [
    "#Calcualte the greatest increase in losses (date and amount) over the entire period\n",
    "\n",
    "#Find the greates increase in losses in the Changes series\n",
    "Greatest_increase_in_Losses = changes_Series.min()\n",
    "\n",
    "#Calculate which index the greatest increase in profits corresponds to in the change series\n",
    "index_of_Greatest_increase = changes_Series[changes_Series == Greatest_increase_in_Losses].index.values\n",
    "\n",
    "#Calculate which index they will correspond to in the budget data AND grab the date of greatest increase\n",
    "Date_of_Greatest_increase_in_Losses = list(df_budget_data.loc[index_of_Greatest_increase+1, \"Date\"])[0]\n",
    "\n",
    "print(f\"Greatest Increase in Losses: {Date_of_Greatest_increase_in_Losses} ${Greatest_increase_in_Losses}\")\n",
    "#print out results."
   ]
  },
  {
   "cell_type": "code",
   "execution_count": 186,
   "metadata": {},
   "outputs": [],
   "source": [
    "#Upload File with all the results\n",
    "PyBank_receipt = open(\"PyBank.txt\",\"w+\")\n",
    "PyBank_receipt.write(f\"Financial Analysis \\n---------------------------- \\nTotal Months: {tot_amount_of_months} \\nTotal: ${tot_amount_Profit_Losses} \\nAverage Change: ${average_change: .2f} \\nGreatest Increase in Profits: {Date_of_Greatest_increase_in_Profits} ${Greatest_increase_in_Profits} \\nGreatest Increase in Losses: {Date_of_Greatest_increase_in_Losses} ${Greatest_increase_in_Losses}\".format())\n",
    "PyBank_receipt.close()\n"
   ]
  }
 ],
 "metadata": {
  "kernelspec": {
   "display_name": "Python 3",
   "language": "python",
   "name": "python3"
  },
  "language_info": {
   "codemirror_mode": {
    "name": "ipython",
    "version": 3
   },
   "file_extension": ".py",
   "mimetype": "text/x-python",
   "name": "python",
   "nbconvert_exporter": "python",
   "pygments_lexer": "ipython3",
   "version": "3.8.5"
  }
 },
 "nbformat": 4,
 "nbformat_minor": 4
}
