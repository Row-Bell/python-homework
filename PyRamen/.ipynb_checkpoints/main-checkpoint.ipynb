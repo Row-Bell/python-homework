{
 "cells": [
  {
   "cell_type": "code",
   "execution_count": 197,
   "metadata": {},
   "outputs": [],
   "source": [
    "# @TODO: Import libraries\n",
    "import csv\n",
    "from pathlib import Path"
   ]
  },
  {
   "cell_type": "code",
   "execution_count": 198,
   "metadata": {},
   "outputs": [],
   "source": [
    "# @TODO: Set file paths for menu_data.csv and sales_data.csv\n",
    "menu_filepath = Path('menu_data.csv')\n",
    "sales_filepath = Path('sales_data.csv')\n",
    "\n"
   ]
  },
  {
   "cell_type": "code",
   "execution_count": 199,
   "metadata": {},
   "outputs": [],
   "source": [
    "# @TODO: Initialize list objects to hold our menu and sales data\n",
    "menu = []\n",
    "sales = []"
   ]
  },
  {
   "cell_type": "code",
   "execution_count": 200,
   "metadata": {},
   "outputs": [],
   "source": [
    "# @TODO: Read in the menu data into the menu list\n",
    "\n",
    "#Open the file Path\n",
    "with open (menu_filepath) as csv_file:\n",
    "    \n",
    "    #Use csv reader() to read in the files as csv_reader object\n",
    "    csv_reader = csv.reader(csv_file)\n",
    "\n",
    "    #Create for loop that iterates through the rows inside csv_reader\n",
    "    #Add the value, or append the row of information, to empty list 'menu'\n",
    "    for row in csv_reader:\n",
    "        menu.append(row)"
   ]
  },
  {
   "cell_type": "code",
   "execution_count": 201,
   "metadata": {},
   "outputs": [
    {
     "name": "stdout",
     "output_type": "stream",
     "text": [
      "[['Line_Item_ID', 'Date', 'Credit_Card_Number', 'Quantity', 'Menu_Item'], ['1', '01-01-2017', '7437926611570799', '1', 'spicy miso ramen'], ['2', '01-01-2017', '7437926611570799', '1', 'spicy miso ramen'], ['3', '01-01-2017', '8421920068932819', '3', 'tori paitan ramen'], ['4', '01-01-2017', '8421920068932819', '3', 'tori paitan ramen']]\n"
     ]
    }
   ],
   "source": [
    "# @TODO: Read in the sales data into the sales list\n",
    "\n",
    "#Open the file Path\n",
    "with open (sales_filepath) as csv_file:\n",
    "    \n",
    "    #Use csv reader() to read in the files as csv_reader object\n",
    "    csv_reader = csv.reader(csv_file)\n",
    "    \n",
    "\n",
    "    #Create for loop that iterates through the rows inside csv_reader\n",
    "    #Add the value, or append the row of information, to empty list 'menu'\n",
    "    for row in csv_reader:    \n",
    "        sales.append(row)\n",
    "\n",
    "print(sales[0:5])"
   ]
  },
  {
   "cell_type": "code",
   "execution_count": 202,
   "metadata": {},
   "outputs": [],
   "source": [
    "# @TODO: Initialize dict object to hold our key-value pairs of items and metrics\n",
    "report ={}"
   ]
  },
  {
   "cell_type": "code",
   "execution_count": 203,
   "metadata": {},
   "outputs": [],
   "source": [
    "# Initialize a row counter variable\n",
    "row_count = 1\n",
    "\n",
    "#Create empty list for Quantity and Menu_Item\n",
    "quantity = []\n",
    "sales_item = []\n",
    "\n",
    "#Create empty list for item, price and cost in menu\n",
    "item = []\n",
    "price = []\n",
    "cost = []"
   ]
  },
  {
   "cell_type": "code",
   "execution_count": 208,
   "metadata": {},
   "outputs": [
    {
     "name": "stdout",
     "output_type": "stream",
     "text": [
      "['edamame', 'house salad', 'cucumber sunomono salad', 'hiyashi wakame seaweed salad', 'agedashi tofu', 'hiyayakko tofu', 'pork floss bao', 'kakuni bao', 'edamame fried gyoza (vegan)'] 148250 148250\n"
     ]
    }
   ],
   "source": [
    "# @TODO: Loop over every row in the sales list object\n",
    "#LOOP THROUGH SALES\n",
    "for row in sales:\n",
    "    \n",
    "    #add the values in column quantity from sales to its OWN list\n",
    "    quantity.append(row[3])\n",
    "    \n",
    "    #add the values in column 'Menu_Item' from sales to its OWN list\n",
    "    sales_item.append(row[4])\n",
    "    \n",
    "#Let's get all the MENU information as well\n",
    "for row in menu:\n",
    "    \n",
    "    #Separate out item, price and cost\n",
    "    item.append(row[0])\n",
    "    price.append(row[3])\n",
    "    cost.append(row[4])\n",
    "    \n",
    "print(item[1:10], len(sales_item), len(quantity))\n",
    "    \n",
    "\n"
   ]
  },
  {
   "cell_type": "code",
   "execution_count": 205,
   "metadata": {},
   "outputs": [
    {
     "data": {
      "text/plain": [
       "'#Check if sales item included in report\\nif sales_item == report:\\n\\n#Then add to the count in sales item\\nreport[sales_item][\"01-count\"] += quantity[count]\\nreport[sales_item][\"02-revenue\"] += price * quantity[count]\\nreport[sales_item][\"03-cogs\"] += cost * quantity[count]\\nreport[sales_item][\"04-profit\"] += profit * quantity[count]\\n\\n    \\n\\n\\ncount = 1\\nfor item in report:\\n    print(report)\\n    \\n# @TODO:\\n# If the item value not in the report, add it as a new entry with initialized metrics\\n# Naming convention allows the keys to be ordered in logical fashion, count, revenue, cost, profit'"
      ]
     },
     "execution_count": 205,
     "metadata": {},
     "output_type": "execute_result"
    }
   ],
   "source": [
    "    # Line_Item_ID,Date,Credit_Card_Number,Quantity,Menu_Item\n",
    "    # @TODO: Initialize sales data variables\n",
    "\n",
    "\n",
    "'''#Check if sales item included in report\n",
    "if sales_item == report:\n",
    "    \n",
    "    #Then add to the count in sales item\n",
    "    report[sales_item][\"01-count\"] += quantity[count]\n",
    "    report[sales_item][\"02-revenue\"] += price * quantity[count]\n",
    "    report[sales_item][\"03-cogs\"] += cost * quantity[count]\n",
    "    report[sales_item][\"04-profit\"] += profit * quantity[count]\n",
    "\n",
    "        \n",
    "\n",
    "    \n",
    "count = 1\n",
    "for item in report:\n",
    "        print(report)\n",
    "        \n",
    "    # @TODO:\n",
    "    # If the item value not in the report, add it as a new entry with initialized metrics\n",
    "    # Naming convention allows the keys to be ordered in logical fashion, count, revenue, cost, profit'''"
   ]
  },
  {
   "cell_type": "code",
   "execution_count": 236,
   "metadata": {},
   "outputs": [
    {
     "name": "stdout",
     "output_type": "stream",
     "text": [
      "{'spicy miso ramen': {'01-count': 36950}, 'tori paitan ramen': {'01-count': 36624}, 'truffle butter ramen': {'01-count': 35928}, 'tonkotsu ramen': {'01-count': 37152}, 'vegetarian spicy miso': {'01-count': 36864}, 'shio ramen': {'01-count': 36720}, 'miso crab ramen': {'01-count': 35560}, 'nagomi shoyu': {'01-count': 36528}, 'soft-shell miso crab ramen': {'01-count': 36520}, 'burnt garlic tonkotsu ramen': {'01-count': 36280}, 'vegetarian curry + king trumpet mushroom ramen': {'01-count': 35296}}\n"
     ]
    }
   ],
   "source": [
    "i = 1\n",
    "report = {}\n",
    "#Iterating through menu item ordered\n",
    "while i<len(sales_item)-1:\n",
    "\n",
    "    #Reinitiate j(menu item index/price index) value, tick up i(what-was-ordered index) value \n",
    "    j = 1\n",
    "    i += 1\n",
    "\n",
    "    #iterating through menu to FIND item INDEX\n",
    "    while j<len(item)-1:\n",
    "\n",
    "        #Conditional IF the menu item and the item equal each other THEN add the value 'j' to the same list, which will gi\n",
    "        if sales_item[i] == item[j]:\n",
    "            #print(j)\n",
    "            \n",
    "            if sales_item[i] not in report:\n",
    "                #print(\"Not Here\")\n",
    "                report[sales_item[i]] = {}\n",
    "                report[sales_item[i]][\"01-count\"] = 0 \n",
    "                report[sales_item[i]][\"01-count\"] = int(quantity[i])\n",
    "                j += 1\n",
    "                \n",
    "            else:            \n",
    "                #print(\"Already there\")\n",
    "                report[sales_item[i]][\"01-count\"] += int(quantity[i])\n",
    "                #report[sales_item][\"02-revenue\"] = int(price[j]) * int(quantity[j])\n",
    "                #report[sales_item][\"03-cogs\"] = cost * int(quantity[j])\n",
    "                #report[sales_item][\"04-profit\"] = profit * int(quantity[j])\n",
    "                j += 1\n",
    "\n",
    "        else:\n",
    "            j += 1\n",
    "\n",
    "print(report)"
   ]
  },
  {
   "cell_type": "markdown",
   "metadata": {},
   "source": [
    "# Nest = {}\n",
    "\n",
    "Nest[\"sale\"] = {}\n",
    "Nest[\"sale\"][\"boob\"] = 1\n",
    "if \"Cock\" not in Nest:\n",
    "    print(\"Nothing here\")\n",
    "print(Nest)"
   ]
  },
  {
   "cell_type": "code",
   "execution_count": null,
   "metadata": {},
   "outputs": [],
   "source": []
  },
  {
   "cell_type": "code",
   "execution_count": null,
   "metadata": {},
   "outputs": [],
   "source": [
    "A"
   ]
  }
 ],
 "metadata": {
  "kernelspec": {
   "display_name": "Python 3",
   "language": "python",
   "name": "python3"
  },
  "language_info": {
   "codemirror_mode": {
    "name": "ipython",
    "version": 3
   },
   "file_extension": ".py",
   "mimetype": "text/x-python",
   "name": "python",
   "nbconvert_exporter": "python",
   "pygments_lexer": "ipython3",
   "version": "3.7.9"
  }
 },
 "nbformat": 4,
 "nbformat_minor": 4
}
