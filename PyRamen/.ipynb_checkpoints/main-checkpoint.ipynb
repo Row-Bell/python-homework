{
 "cells": [
  {
   "cell_type": "code",
   "execution_count": 1,
   "metadata": {},
   "outputs": [],
   "source": [
    "# @TODO: Import libraries\n",
    "import csv\n",
    "from pathlib import Path"
   ]
  },
  {
   "cell_type": "code",
   "execution_count": 2,
   "metadata": {},
   "outputs": [],
   "source": [
    "# @TODO: Set file paths for menu_data.csv and sales_data.csv\n",
    "menu_filepath = Path('menu_data.csv')\n",
    "sales_filepath = Path('sales_data.csv')\n",
    "\n"
   ]
  },
  {
   "cell_type": "code",
   "execution_count": 3,
   "metadata": {},
   "outputs": [],
   "source": [
    "# @TODO: Initialize list objects to hold our menu and sales data\n",
    "menu = []\n",
    "sales = []"
   ]
  },
  {
   "cell_type": "code",
   "execution_count": 4,
   "metadata": {},
   "outputs": [],
   "source": [
    "# @TODO: Read in the menu data into the menu list\n",
    "\n",
    "#Open the file Path\n",
    "with open (menu_filepath) as csv_file:\n",
    "    \n",
    "    #Use csv reader() to read in the files as csv_reader object\n",
    "    csv_reader = csv.reader(csv_file)\n",
    "\n",
    "    #Create for loop that iterates through the rows inside csv_reader\n",
    "    #Add the value, or append the row of information, to empty list 'menu'\n",
    "    for row in csv_reader:\n",
    "        menu.append(row)"
   ]
  },
  {
   "cell_type": "code",
   "execution_count": 5,
   "metadata": {},
   "outputs": [
    {
     "name": "stdout",
     "output_type": "stream",
     "text": [
      "[['Line_Item_ID', 'Date', 'Credit_Card_Number', 'Quantity', 'Menu_Item'], ['1', '01-01-2017', '7437926611570799', '1', 'spicy miso ramen'], ['2', '01-01-2017', '7437926611570799', '1', 'spicy miso ramen'], ['3', '01-01-2017', '8421920068932819', '3', 'tori paitan ramen'], ['4', '01-01-2017', '8421920068932819', '3', 'tori paitan ramen']]\n"
     ]
    }
   ],
   "source": [
    "# @TODO: Read in the sales data into the sales list\n",
    "\n",
    "#Open the file Path\n",
    "with open (sales_filepath) as csv_file:\n",
    "    \n",
    "    #Use csv reader() to read in the files as csv_reader object\n",
    "    csv_reader = csv.reader(csv_file)\n",
    "    \n",
    "\n",
    "    #Create for loop that iterates through the rows inside csv_reader\n",
    "    #Add the value, or append the row of information, to empty list 'menu'\n",
    "    for row in csv_reader:    \n",
    "        sales.append(row)\n",
    "\n",
    "print(sales[0:5])"
   ]
  },
  {
   "cell_type": "code",
   "execution_count": 6,
   "metadata": {},
   "outputs": [],
   "source": [
    "# @TODO: Initialize dict object to hold our key-value pairs of items and metrics\n",
    "report ={}"
   ]
  },
  {
   "cell_type": "code",
   "execution_count": 7,
   "metadata": {},
   "outputs": [],
   "source": [
    "# Initialize a row counter variable\n",
    "row_count = 1\n",
    "\n",
    "#Create empty list for Quantity and Menu_Item\n",
    "quantity = []\n",
    "sales_item = []\n",
    "\n",
    "#Create empty list for item, price and cost in menu\n",
    "item = []\n",
    "price = []\n",
    "cost = []"
   ]
  },
  {
   "cell_type": "code",
   "execution_count": 8,
   "metadata": {},
   "outputs": [
    {
     "name": "stdout",
     "output_type": "stream",
     "text": [
      "['edamame', 'house salad', 'cucumber sunomono salad', 'hiyashi wakame seaweed salad', 'agedashi tofu', 'hiyayakko tofu', 'pork floss bao', 'kakuni bao', 'edamame fried gyoza (vegan)'] 74125 74125\n"
     ]
    }
   ],
   "source": [
    "# @TODO: Loop over every row in the sales list object\n",
    "#LOOP THROUGH SALES\n",
    "for row in sales:\n",
    "    \n",
    "    #add the values in column quantity from sales to its OWN list\n",
    "    quantity.append(row[3])\n",
    "    \n",
    "    #add the values in column 'Menu_Item' from sales to its OWN list\n",
    "    sales_item.append(row[4])\n",
    "    \n",
    "#Let's get all the MENU information as well\n",
    "for row in menu:\n",
    "    \n",
    "    #Separate out item, price and cost\n",
    "    item.append(row[0])\n",
    "    price.append(row[3])\n",
    "    cost.append(row[4])\n",
    "    \n",
    "print(item[1:10], len(sales_item), len(quantity))\n",
    "    \n",
    "\n"
   ]
  },
  {
   "cell_type": "code",
   "execution_count": 38,
   "metadata": {},
   "outputs": [
    {
     "name": "stdout",
     "output_type": "stream",
     "text": [
      "spicy miso ramen\t{'01-count': 9238, '02-revenue': 110856.0, '03-cogs': 46190.0, '04-profit': 64666.0}\n",
      "tori paitan ramen\t{'01-count': 9156, '02-revenue': 119028.0, '03-cogs': 54936.0, '04-profit': 64092.0}\n",
      "truffle butter ramen\t{'01-count': 8982, '02-revenue': 125748.0, '03-cogs': 62874.0, '04-profit': 62874.0}\n",
      "tonkotsu ramen\t{'01-count': 9288, '02-revenue': 120744.0, '03-cogs': 55728.0, '04-profit': 65016.0}\n",
      "vegetarian spicy miso\t{'01-count': 9216, '02-revenue': 110592.0, '03-cogs': 46080.0, '04-profit': 64512.0}\n",
      "shio ramen\t{'01-count': 9180, '02-revenue': 100980.0, '03-cogs': 45900.0, '04-profit': 55080.0}\n",
      "miso crab ramen\t{'01-count': 8890, '02-revenue': 106680.0, '03-cogs': 53340.0, '04-profit': 53340.0}\n",
      "nagomi shoyu\t{'01-count': 9132, '02-revenue': 100452.0, '03-cogs': 45660.0, '04-profit': 54792.0}\n",
      "soft-shell miso crab ramen\t{'01-count': 9130, '02-revenue': 127820.0, '03-cogs': 63910.0, '04-profit': 63910.0}\n",
      "burnt garlic tonkotsu ramen\t{'01-count': 9070, '02-revenue': 126980.0, '03-cogs': 54420.0, '04-profit': 72560.0}\n",
      "vegetarian curry + king trumpet mushroom ramen\t{'01-count': 8824, '02-revenue': 114712.0, '03-cogs': 61768.0, '04-profit': 52944.0}\n"
     ]
    }
   ],
   "source": [
    "i = 0\n",
    "report = {}\n",
    "\n",
    "#Iterating through menu item ordered\n",
    "while i<len(sales_item)-1:\n",
    "\n",
    "    #Reinitiate j(menu item index/price index) value, tick up i(what-was-ordered index) value \n",
    "    j = 0\n",
    "    i += 1\n",
    "\n",
    "    #iterating through menu to FIND item INDEX\n",
    "    while j<len(item)-1:\n",
    "\n",
    "        #Conditional IF the menu item and the item equal each other THEN add the value 'j' to the same list, which will gi\n",
    "        if sales_item[i] == item[j]:\n",
    "            #print(j)\n",
    "            \n",
    "            if sales_item[i] not in report:\n",
    "                #print(\"Not Here\")\n",
    "                report[sales_item[i]] = {}\n",
    "                \n",
    "                report[sales_item[i]][\"01-count\"] = 0 \n",
    "                report[sales_item[i]][\"01-count\"] = int(quantity[i])\n",
    "                \n",
    "                report[sales_item[i]][\"02-revenue\"] = 0 \n",
    "                report[sales_item[i]][\"02-revenue\"] = float(price[j]) * float(quantity[i])\n",
    "                \n",
    "                report[sales_item[i]][\"03-cogs\"] = 0 \n",
    "                report[sales_item[i]][\"03-cogs\"] = float(cost[j]) * float(quantity[i])\n",
    "                \n",
    "                report[sales_item[i]][\"04-profit\"] = 0 \n",
    "                report[sales_item[i]][\"04-profit\"] = (float(price[j])-float(cost[j])) * float(quantity[i])\n",
    "                j += 1\n",
    "                \n",
    "            else:            \n",
    "                #print(\"Already there\")\n",
    "                report[sales_item[i]][\"01-count\"] += int(quantity[i])\n",
    "                report[sales_item[i]][\"02-revenue\"] += float(price[j]) * float(quantity[i])\n",
    "                report[sales_item[i]][\"03-cogs\"] += float(cost[j]) * float(quantity[i])\n",
    "                report[sales_item[i]][\"04-profit\"] += (float(price[j])-float(cost[j])) * float(quantity[i])\n",
    "                j += 1\n",
    "\n",
    "        else:\n",
    "            j += 1\n",
    "\n",
    "\n",
    "print(\"\\n\".join(\"{}\\t{}\".format(k, v) for k, v in report.items()))"
   ]
  },
  {
   "cell_type": "code",
   "execution_count": null,
   "metadata": {},
   "outputs": [],
   "source": []
  }
 ],
 "metadata": {
  "kernelspec": {
   "display_name": "Python 3",
   "language": "python",
   "name": "python3"
  },
  "language_info": {
   "codemirror_mode": {
    "name": "ipython",
    "version": 3
   },
   "file_extension": ".py",
   "mimetype": "text/x-python",
   "name": "python",
   "nbconvert_exporter": "python",
   "pygments_lexer": "ipython3",
   "version": "3.7.9"
  }
 },
 "nbformat": 4,
 "nbformat_minor": 4
}
